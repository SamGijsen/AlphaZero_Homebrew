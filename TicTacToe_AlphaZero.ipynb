{
 "cells": [
  {
   "cell_type": "code",
   "execution_count": 1,
   "id": "67ec983c",
   "metadata": {},
   "outputs": [],
   "source": [
    "%load_ext autoreload\n",
    "%autoreload 2\n",
    "import numpy as np\n",
    "import math\n",
    "import matplotlib.pyplot as plt\n",
    "from tqdm.notebook import tqdm, trange # progress bars\n",
    "\n",
    "import torch\n",
    "import torch.nn as nn\n",
    "import torch.nn.functional as F\n",
    "\n",
    "from TTT_env import TTT\n",
    "from neural_nets import ValueNet, PolicyNet, Training\n",
    "from mcts import MCTS, Node\n",
    "from self_play import Self_Play\n",
    "import pickle"
   ]
  },
  {
   "cell_type": "code",
   "execution_count": 21,
   "id": "cbb69a51",
   "metadata": {
    "scrolled": true
   },
   "outputs": [
    {
     "name": "stdout",
     "output_type": "stream",
     "text": [
      "Self-Play: Iter 1 out of 15\n",
      "Train: Policy & Value: Iter Net 1 out of 15\n",
      "Device= cpu\n"
     ]
    },
    {
     "data": {
      "application/vnd.jupyter.widget-view+json": {
       "model_id": "de31c49122f548019aa2a87b9285b723",
       "version_major": 2,
       "version_minor": 0
      },
      "text/plain": [
       "  0%|          | 0/437 [00:00<?, ?it/s]"
      ]
     },
     "metadata": {},
     "output_type": "display_data"
    },
    {
     "data": {
      "application/vnd.jupyter.widget-view+json": {
       "model_id": "0697a8638d004e2ab3cd9d8577eb8263",
       "version_major": 2,
       "version_minor": 0
      },
      "text/plain": [
       "  0%|          | 0/437 [00:00<?, ?it/s]"
      ]
     },
     "metadata": {},
     "output_type": "display_data"
    },
    {
     "name": "stdout",
     "output_type": "stream",
     "text": [
      "Self-Play: Iter 2 out of 15\n",
      "Train: Policy & Value: Iter Net 2 out of 15\n"
     ]
    },
    {
     "data": {
      "application/vnd.jupyter.widget-view+json": {
       "model_id": "4917e71392c6409584763c94ba8a4c2d",
       "version_major": 2,
       "version_minor": 0
      },
      "text/plain": [
       "  0%|          | 0/499 [00:00<?, ?it/s]"
      ]
     },
     "metadata": {},
     "output_type": "display_data"
    },
    {
     "data": {
      "application/vnd.jupyter.widget-view+json": {
       "model_id": "9674e4f8b3c54afb9d2975642920dc54",
       "version_major": 2,
       "version_minor": 0
      },
      "text/plain": [
       "  0%|          | 0/499 [00:00<?, ?it/s]"
      ]
     },
     "metadata": {},
     "output_type": "display_data"
    },
    {
     "name": "stdout",
     "output_type": "stream",
     "text": [
      "Self-Play: Iter 3 out of 15\n",
      "Train: Policy & Value: Iter Net 3 out of 15\n"
     ]
    },
    {
     "data": {
      "application/vnd.jupyter.widget-view+json": {
       "model_id": "225d82a8694e46a6808321b5173fd68d",
       "version_major": 2,
       "version_minor": 0
      },
      "text/plain": [
       "  0%|          | 0/437 [00:00<?, ?it/s]"
      ]
     },
     "metadata": {},
     "output_type": "display_data"
    },
    {
     "data": {
      "application/vnd.jupyter.widget-view+json": {
       "model_id": "206364cbf8ae4685814a08d479d656c8",
       "version_major": 2,
       "version_minor": 0
      },
      "text/plain": [
       "  0%|          | 0/437 [00:00<?, ?it/s]"
      ]
     },
     "metadata": {},
     "output_type": "display_data"
    },
    {
     "name": "stdout",
     "output_type": "stream",
     "text": [
      "Self-Play: Iter 4 out of 15\n",
      "Train: Policy & Value: Iter Net 4 out of 15\n"
     ]
    },
    {
     "data": {
      "application/vnd.jupyter.widget-view+json": {
       "model_id": "c4e57f746d1745639583455ccc686ff9",
       "version_major": 2,
       "version_minor": 0
      },
      "text/plain": [
       "  0%|          | 0/437 [00:00<?, ?it/s]"
      ]
     },
     "metadata": {},
     "output_type": "display_data"
    },
    {
     "data": {
      "application/vnd.jupyter.widget-view+json": {
       "model_id": "244e190f421e464da6362e898eb0cf40",
       "version_major": 2,
       "version_minor": 0
      },
      "text/plain": [
       "  0%|          | 0/437 [00:00<?, ?it/s]"
      ]
     },
     "metadata": {},
     "output_type": "display_data"
    },
    {
     "name": "stdout",
     "output_type": "stream",
     "text": [
      "Self-Play: Iter 5 out of 15\n",
      "Train: Policy & Value: Iter Net 5 out of 15\n"
     ]
    },
    {
     "data": {
      "application/vnd.jupyter.widget-view+json": {
       "model_id": "e175f1d4f6bc49e3a08ddaea0e77df2b",
       "version_major": 2,
       "version_minor": 0
      },
      "text/plain": [
       "  0%|          | 0/437 [00:00<?, ?it/s]"
      ]
     },
     "metadata": {},
     "output_type": "display_data"
    },
    {
     "data": {
      "application/vnd.jupyter.widget-view+json": {
       "model_id": "ca99c630c2fc4e1284fd464d40a61613",
       "version_major": 2,
       "version_minor": 0
      },
      "text/plain": [
       "  0%|          | 0/437 [00:00<?, ?it/s]"
      ]
     },
     "metadata": {},
     "output_type": "display_data"
    },
    {
     "name": "stdout",
     "output_type": "stream",
     "text": [
      "Self-Play: Iter 6 out of 15\n",
      "Train: Policy & Value: Iter Net 6 out of 15\n"
     ]
    },
    {
     "data": {
      "application/vnd.jupyter.widget-view+json": {
       "model_id": "db1dba22780848e694c46d5328592b62",
       "version_major": 2,
       "version_minor": 0
      },
      "text/plain": [
       "  0%|          | 0/437 [00:00<?, ?it/s]"
      ]
     },
     "metadata": {},
     "output_type": "display_data"
    },
    {
     "data": {
      "application/vnd.jupyter.widget-view+json": {
       "model_id": "b4d01588669047a4a487dcdc3185a98d",
       "version_major": 2,
       "version_minor": 0
      },
      "text/plain": [
       "  0%|          | 0/437 [00:00<?, ?it/s]"
      ]
     },
     "metadata": {},
     "output_type": "display_data"
    },
    {
     "name": "stdout",
     "output_type": "stream",
     "text": [
      "Self-Play: Iter 7 out of 15\n",
      "Train: Policy & Value: Iter Net 7 out of 15\n"
     ]
    },
    {
     "data": {
      "application/vnd.jupyter.widget-view+json": {
       "model_id": "a034f86361f64c538bf19fcda6760abb",
       "version_major": 2,
       "version_minor": 0
      },
      "text/plain": [
       "  0%|          | 0/437 [00:00<?, ?it/s]"
      ]
     },
     "metadata": {},
     "output_type": "display_data"
    },
    {
     "data": {
      "application/vnd.jupyter.widget-view+json": {
       "model_id": "463523ae4c534851970456327cfca531",
       "version_major": 2,
       "version_minor": 0
      },
      "text/plain": [
       "  0%|          | 0/437 [00:00<?, ?it/s]"
      ]
     },
     "metadata": {},
     "output_type": "display_data"
    },
    {
     "name": "stdout",
     "output_type": "stream",
     "text": [
      "Self-Play: Iter 8 out of 15\n",
      "Train: Policy & Value: Iter Net 8 out of 15\n"
     ]
    },
    {
     "data": {
      "application/vnd.jupyter.widget-view+json": {
       "model_id": "95f6a9553ed24418a98edc813e7707cc",
       "version_major": 2,
       "version_minor": 0
      },
      "text/plain": [
       "  0%|          | 0/437 [00:00<?, ?it/s]"
      ]
     },
     "metadata": {},
     "output_type": "display_data"
    },
    {
     "data": {
      "application/vnd.jupyter.widget-view+json": {
       "model_id": "97b9f8c7a5f545b0b9c1a7ca442e27c8",
       "version_major": 2,
       "version_minor": 0
      },
      "text/plain": [
       "  0%|          | 0/437 [00:00<?, ?it/s]"
      ]
     },
     "metadata": {},
     "output_type": "display_data"
    },
    {
     "name": "stdout",
     "output_type": "stream",
     "text": [
      "Self-Play: Iter 9 out of 15\n",
      "Train: Policy & Value: Iter Net 9 out of 15\n"
     ]
    },
    {
     "data": {
      "application/vnd.jupyter.widget-view+json": {
       "model_id": "71d8314521d04e6f80e26fa11e69ba56",
       "version_major": 2,
       "version_minor": 0
      },
      "text/plain": [
       "  0%|          | 0/437 [00:00<?, ?it/s]"
      ]
     },
     "metadata": {},
     "output_type": "display_data"
    },
    {
     "data": {
      "application/vnd.jupyter.widget-view+json": {
       "model_id": "64df6ebbe4274b4ebd82e2277a691851",
       "version_major": 2,
       "version_minor": 0
      },
      "text/plain": [
       "  0%|          | 0/437 [00:00<?, ?it/s]"
      ]
     },
     "metadata": {},
     "output_type": "display_data"
    },
    {
     "name": "stdout",
     "output_type": "stream",
     "text": [
      "Self-Play: Iter 10 out of 15\n",
      "Train: Policy & Value: Iter Net 10 out of 15\n"
     ]
    },
    {
     "data": {
      "application/vnd.jupyter.widget-view+json": {
       "model_id": "0f8e2178e6ae49548f5339d3d4d90943",
       "version_major": 2,
       "version_minor": 0
      },
      "text/plain": [
       "  0%|          | 0/437 [00:00<?, ?it/s]"
      ]
     },
     "metadata": {},
     "output_type": "display_data"
    },
    {
     "data": {
      "application/vnd.jupyter.widget-view+json": {
       "model_id": "3c902a077eea4b2aae7d5f6989ac0fc8",
       "version_major": 2,
       "version_minor": 0
      },
      "text/plain": [
       "  0%|          | 0/437 [00:00<?, ?it/s]"
      ]
     },
     "metadata": {},
     "output_type": "display_data"
    },
    {
     "name": "stdout",
     "output_type": "stream",
     "text": [
      "Self-Play: Iter 11 out of 15\n",
      "Train: Policy & Value: Iter Net 11 out of 15\n"
     ]
    },
    {
     "data": {
      "application/vnd.jupyter.widget-view+json": {
       "model_id": "d5a13f7af6e048dd8fd5d38db72f4c2a",
       "version_major": 2,
       "version_minor": 0
      },
      "text/plain": [
       "  0%|          | 0/437 [00:00<?, ?it/s]"
      ]
     },
     "metadata": {},
     "output_type": "display_data"
    },
    {
     "data": {
      "application/vnd.jupyter.widget-view+json": {
       "model_id": "70b2dbd0e6904cf497bdd4cb98e494e8",
       "version_major": 2,
       "version_minor": 0
      },
      "text/plain": [
       "  0%|          | 0/437 [00:00<?, ?it/s]"
      ]
     },
     "metadata": {},
     "output_type": "display_data"
    },
    {
     "name": "stdout",
     "output_type": "stream",
     "text": [
      "Self-Play: Iter 12 out of 15\n",
      "Train: Policy & Value: Iter Net 12 out of 15\n"
     ]
    },
    {
     "data": {
      "application/vnd.jupyter.widget-view+json": {
       "model_id": "3b272f10e46d4d889c1ca91c6827022c",
       "version_major": 2,
       "version_minor": 0
      },
      "text/plain": [
       "  0%|          | 0/437 [00:00<?, ?it/s]"
      ]
     },
     "metadata": {},
     "output_type": "display_data"
    },
    {
     "data": {
      "application/vnd.jupyter.widget-view+json": {
       "model_id": "cfbb51ea343d4d19a5eee8c910564b2d",
       "version_major": 2,
       "version_minor": 0
      },
      "text/plain": [
       "  0%|          | 0/437 [00:00<?, ?it/s]"
      ]
     },
     "metadata": {},
     "output_type": "display_data"
    },
    {
     "name": "stdout",
     "output_type": "stream",
     "text": [
      "Self-Play: Iter 13 out of 15\n",
      "Train: Policy & Value: Iter Net 13 out of 15\n"
     ]
    },
    {
     "data": {
      "application/vnd.jupyter.widget-view+json": {
       "model_id": "f1ba7ed445cb4f43b49bb227c962f35e",
       "version_major": 2,
       "version_minor": 0
      },
      "text/plain": [
       "  0%|          | 0/377 [00:00<?, ?it/s]"
      ]
     },
     "metadata": {},
     "output_type": "display_data"
    },
    {
     "data": {
      "application/vnd.jupyter.widget-view+json": {
       "model_id": "389df42008654c2588c0972677a14b9c",
       "version_major": 2,
       "version_minor": 0
      },
      "text/plain": [
       "  0%|          | 0/377 [00:00<?, ?it/s]"
      ]
     },
     "metadata": {},
     "output_type": "display_data"
    },
    {
     "name": "stdout",
     "output_type": "stream",
     "text": [
      "Self-Play: Iter 14 out of 15\n",
      "Train: Policy & Value: Iter Net 14 out of 15\n"
     ]
    },
    {
     "data": {
      "application/vnd.jupyter.widget-view+json": {
       "model_id": "1a4ccd695c754fe49f5f114e451b4f48",
       "version_major": 2,
       "version_minor": 0
      },
      "text/plain": [
       "  0%|          | 0/437 [00:00<?, ?it/s]"
      ]
     },
     "metadata": {},
     "output_type": "display_data"
    },
    {
     "data": {
      "application/vnd.jupyter.widget-view+json": {
       "model_id": "21a5f6a66f0f4402ade9389901e19162",
       "version_major": 2,
       "version_minor": 0
      },
      "text/plain": [
       "  0%|          | 0/437 [00:00<?, ?it/s]"
      ]
     },
     "metadata": {},
     "output_type": "display_data"
    },
    {
     "name": "stdout",
     "output_type": "stream",
     "text": [
      "Self-Play: Iter 15 out of 15\n",
      "Train: Policy & Value: Iter Net 15 out of 15\n"
     ]
    },
    {
     "data": {
      "application/vnd.jupyter.widget-view+json": {
       "model_id": "77886d7ee0124661b3809c360729d709",
       "version_major": 2,
       "version_minor": 0
      },
      "text/plain": [
       "  0%|          | 0/437 [00:00<?, ?it/s]"
      ]
     },
     "metadata": {},
     "output_type": "display_data"
    },
    {
     "data": {
      "application/vnd.jupyter.widget-view+json": {
       "model_id": "33527ba5b8384b72a6a02aefab46affe",
       "version_major": 2,
       "version_minor": 0
      },
      "text/plain": [
       "  0%|          | 0/437 [00:00<?, ?it/s]"
      ]
     },
     "metadata": {},
     "output_type": "display_data"
    }
   ],
   "source": [
    "parameter_path = \"./dnn_checkpoints6/\"\n",
    "iterations = 15 # number of `play -> train` loops\n",
    "games = 1000 # games per self-play session\n",
    "depth = 250 # search depth for monte-carlo tree search\n",
    "temperature = 1 # temperature determining action-selection based on MCTS visit count\n",
    "lr_p = 0.005 # learning rate for policy net\n",
    "lr_v = 0.001 # learning rate for value net\n",
    "batchsize_p = 64\n",
    "batchsize_v = 64\n",
    "epochs_p = 4\n",
    "epochs_v = 4\n",
    "\n",
    "# ran 12x250games with depth=1000: saved!\n",
    "# 4: 4x250 games with depth=4000\n",
    "\n",
    "for v in range(iterations):\n",
    "    \n",
    "    # start with self-play\n",
    "    print(\"Self-Play: Iter {} out of {}\".format(v+1, iterations))\n",
    "\n",
    "    if v < 22:\n",
    "        fn = parameter_path + 'game_data_v{}.data'.format(v)\n",
    "        with open(fn, \"rb\") as f:\n",
    "            state_log, mcts_log, win_log = pickle.load(f)\n",
    "    else:\n",
    "        engine = Self_Play(games=games, depth=depth, temperature=temperature, parameter_path = parameter_path)\n",
    "        state_log, mcts_log, win_log = engine.play(version=v)\n",
    "    \n",
    "    \n",
    "    # train DNN's using the played games\n",
    "    print(\"Train: Policy & Value: Iter Net {} out of {}\".format(v+1, iterations))\n",
    "    \n",
    "    if v == 0:\n",
    "        train = Training()   \n",
    "        \n",
    "    pnet, losses = train.train_policy( \n",
    "    state_log, mcts_log, win_log, version=v, parameter_path = parameter_path, lr=lr_p, batchsize=batchsize_p, epochs=epochs_p\n",
    "    )\n",
    "    \n",
    "    vnet, losses = train.train_value( \n",
    "    state_log, mcts_log, win_log, version=v, parameter_path = parameter_path, lr=lr_v, batchsize=batchsize_v, epochs=epochs_v\n",
    "    )\n",
    "    \n",
    "    lr_p *=0.95\n",
    "    lr_v *=0.95\n"
   ]
  },
  {
   "cell_type": "code",
   "execution_count": 22,
   "id": "99fc6778",
   "metadata": {},
   "outputs": [
    {
     "data": {
      "image/png": "[encoded data removed]",
      "text/plain": [
       "<Figure size 792x360 with 1 Axes>"
      ]
     },
     "metadata": {
      "needs_background": "light"
     },
     "output_type": "display_data"
    },
    {
     "data": {
      "image/png": "[encoded data removed]",
      "text/plain": [
       "<Figure size 792x360 with 1 Axes>"
      ]
     },
     "metadata": {
      "needs_background": "light"
     },
     "output_type": "display_data"
    }
   ],
   "source": [
    "# Plotting loss for both nets across self-play rounds\n",
    "\n",
    "plt.figure(figsize=(11,5))\n",
    "\n",
    "for i in range(iterations-3):\n",
    "    \n",
    "    p_loss_fn = parameter_path +  \"pnet_loss_v{}.data\".format(i)\n",
    "    \n",
    "    with open(p_loss_fn, \"rb\") as f:\n",
    "        \n",
    "        data = pickle.load(f)\n",
    "        \n",
    "        if i == 0:\n",
    "            lengths = []\n",
    "            l = np.empty(0)\n",
    "\n",
    "        plt.plot(np.arange(len(data))+np.sum(lengths), data, label=\"Round %s\"%i)\n",
    "        l = np.append(l, np.array(data).reshape(-1,1))\n",
    "        lengths.append(len(data))\n",
    "        \n",
    "plt.legend(title=\"Self-play rounds\")\n",
    "plt.title(\"Policy-Net Loss\", fontweight=\"bold\"); plt.show()\n",
    "\n",
    "\n",
    "plt.figure(figsize=(11,5))\n",
    "\n",
    "for i in range(iterations-3):\n",
    "    \n",
    "    v_loss_fn = parameter_path + \"vnet_loss_v{}.data\".format(i)\n",
    "    \n",
    "    with open(v_loss_fn, \"rb\") as f:\n",
    "    \n",
    "        data = pickle.load(f)\n",
    "        \n",
    "        if i == 0:\n",
    "            lengths = []\n",
    "            l = np.empty(0)\n",
    "            \n",
    "        plt.plot(np.arange(len(data))+np.sum(lengths), data, label=\"Round %s\"%i)\n",
    "        l = np.append(l, np.array(data).reshape(-1,1))\n",
    "        lengths.append(len(data))\n",
    "        \n",
    "plt.legend(title=\"Self-play rounds\")\n",
    "plt.title(\"Value-Net Loss\", fontweight=\"bold\"); plt.show()"
   ]
  },
  {
   "cell_type": "code",
   "execution_count": 8,
   "id": "127745ad",
   "metadata": {},
   "outputs": [
    {
     "name": "stdout",
     "output_type": "stream",
     "text": [
      "11\n"
     ]
    }
   ],
   "source": [
    "model = ValueNet()\n",
    "\n",
    "version = iterations-4\n",
    "if version > 0: # load parameters from previous versions\n",
    "    model.load_state_dict(torch.load(parameter_path + \"vnet_v{}\".format(version)))\n",
    "print(version)"
   ]
  },
  {
   "cell_type": "code",
   "execution_count": 9,
   "id": "3a8114af",
   "metadata": {},
   "outputs": [
    {
     "name": "stdout",
     "output_type": "stream",
     "text": [
      "Guaranteed loss\n",
      " [[-1 -1  0]\n",
      " [-1  1  0]\n",
      " [ 0  0  1]]\n",
      "Q = -0.0013961642980575562\n"
     ]
    }
   ],
   "source": [
    "state = [-1, -1, 0, -1, 1, 0, 0, 0, 1]\n",
    "print(\"Guaranteed loss\\n\", np.array(state).reshape(3,3))\n",
    "out = model(torch.tensor(state).float())\n",
    "print(\"Q =\",out.detach().item())"
   ]
  },
  {
   "cell_type": "code",
   "execution_count": 10,
   "id": "8434aa0f",
   "metadata": {},
   "outputs": [
    {
     "name": "stdout",
     "output_type": "stream",
     "text": [
      "Guaranteed win\n",
      " [[ 1  1  0]\n",
      " [-1  0  0]\n",
      " [ 0  0 -1]]\n",
      "Q = -0.11031481623649597\n"
     ]
    }
   ],
   "source": [
    "state = [1, 1, 0, -1, 0, 0, 0, 0, -1]\n",
    "print(\"Guaranteed win\\n\", np.array(state).reshape(3,3))\n",
    "out = model(torch.tensor(state).float())\n",
    "print(\"Q =\",out.detach().item())"
   ]
  },
  {
   "cell_type": "code",
   "execution_count": 11,
   "id": "7f636299",
   "metadata": {},
   "outputs": [
    {
     "name": "stdout",
     "output_type": "stream",
     "text": [
      "Start middle\n",
      " [[ 0  0  0]\n",
      " [ 0 -1  0]\n",
      " [ 0  0  0]]\n",
      "Q = -0.3122516870498657\n",
      "-------------------------\n",
      "Start middle\n",
      " [[0 0 0]\n",
      " [0 1 0]\n",
      " [0 0 0]]\n",
      "Q = 0.043831974267959595\n"
     ]
    }
   ],
   "source": [
    "state = [0, 0, 0, 0, -1, 0, 0, 0, 0]\n",
    "print(\"Start middle\\n\", np.array(state).reshape(3,3))\n",
    "out = model(torch.tensor(state).float())\n",
    "print(\"Q =\",out.detach().item())\n",
    "print(\"-\"*25)\n",
    "state = [0, 0, 0, 0, 1, 0, 0, 0, 0]\n",
    "print(\"Start middle\\n\", np.array(state).reshape(3,3))\n",
    "out = model(torch.tensor(state).float())\n",
    "print(\"Q =\",out.detach().item())"
   ]
  },
  {
   "cell_type": "code",
   "execution_count": 12,
   "id": "257dc156",
   "metadata": {},
   "outputs": [
    {
     "name": "stdout",
     "output_type": "stream",
     "text": [
      "Start corner\n",
      " [[-1  0  0]\n",
      " [ 0  0  0]\n",
      " [ 0  0  0]]\n",
      "Q = -0.6752397418022156\n",
      "-------------------------\n",
      "Start corner\n",
      " [[1 0 0]\n",
      " [0 0 0]\n",
      " [0 0 0]]\n",
      "Q = 0.4749067425727844\n"
     ]
    }
   ],
   "source": [
    "state = [-1, 0, 0, 0, 0, 0, 0, 0, 0]\n",
    "print(\"Start corner\\n\", np.array(state).reshape(3,3))\n",
    "out = model(torch.tensor(state).float())\n",
    "print(\"Q =\",out.detach().item())\n",
    "print(\"-\"*25)\n",
    "state = [1, 0, 0, 0, 0, 0, 0, 0, 0]\n",
    "print(\"Start corner\\n\", np.array(state).reshape(3,3))\n",
    "out = model(torch.tensor(state).float())\n",
    "print(\"Q =\",out.detach().item())"
   ]
  },
  {
   "cell_type": "code",
   "execution_count": 13,
   "id": "13e62dd2",
   "metadata": {},
   "outputs": [
    {
     "name": "stdout",
     "output_type": "stream",
     "text": [
      "Bad start\n",
      " [[ 0  0  0]\n",
      " [-1  0  0]\n",
      " [ 0  0  0]]\n",
      "Q = -0.109290212392807\n",
      "-------------------------\n",
      "Bad start\n",
      " [[0 0 0]\n",
      " [1 0 0]\n",
      " [0 0 0]]\n",
      "Q = -0.11527213454246521\n"
     ]
    }
   ],
   "source": [
    "state = [0, 0, 0, -1, 0, 0, 0, 0, 0]\n",
    "print(\"Bad start\\n\", np.array(state).reshape(3,3))\n",
    "out = model(torch.tensor(state).float())\n",
    "print(\"Q =\",out.detach().item())\n",
    "print(\"-\"*25)\n",
    "state = [0, 0, 0, 1, 0, 0, 0, 0, 0]\n",
    "print(\"Bad start\\n\", np.array(state).reshape(3,3))\n",
    "out = model(torch.tensor(state).float())\n",
    "print(\"Q =\",out.detach().item())"
   ]
  },
  {
   "cell_type": "code",
   "execution_count": 24,
   "id": "4e8cb2f4",
   "metadata": {},
   "outputs": [
    {
     "ename": "TypeError",
     "evalue": "super(type, obj): obj must be an instance or subtype of type",
     "output_type": "error",
     "traceback": [
      "\u001b[0;31m---------------------------------------------------------------------------\u001b[0m",
      "\u001b[0;31mTypeError\u001b[0m                                 Traceback (most recent call last)",
      "\u001b[0;32m<ipython-input-24-813a24404389>\u001b[0m in \u001b[0;36m<module>\u001b[0;34m\u001b[0m\n\u001b[0;32m----> 1\u001b[0;31m \u001b[0mmodel\u001b[0m \u001b[0;34m=\u001b[0m \u001b[0mPolicyNet\u001b[0m\u001b[0;34m(\u001b[0m\u001b[0;34m)\u001b[0m\u001b[0;34m\u001b[0m\u001b[0;34m\u001b[0m\u001b[0m\n\u001b[0m\u001b[1;32m      2\u001b[0m \u001b[0;34m\u001b[0m\u001b[0m\n\u001b[1;32m      3\u001b[0m \u001b[0mversion\u001b[0m \u001b[0;34m=\u001b[0m \u001b[0miterations\u001b[0m\u001b[0;34m-\u001b[0m\u001b[0;36m1\u001b[0m\u001b[0;34m\u001b[0m\u001b[0;34m\u001b[0m\u001b[0m\n\u001b[1;32m      4\u001b[0m \u001b[0;32mif\u001b[0m \u001b[0mversion\u001b[0m \u001b[0;34m>\u001b[0m \u001b[0;36m0\u001b[0m\u001b[0;34m:\u001b[0m \u001b[0;31m# load parameters from previous versions\u001b[0m\u001b[0;34m\u001b[0m\u001b[0;34m\u001b[0m\u001b[0m\n\u001b[1;32m      5\u001b[0m     \u001b[0mmodel\u001b[0m\u001b[0;34m.\u001b[0m\u001b[0mload_state_dict\u001b[0m\u001b[0;34m(\u001b[0m\u001b[0mtorch\u001b[0m\u001b[0;34m.\u001b[0m\u001b[0mload\u001b[0m\u001b[0;34m(\u001b[0m\u001b[0mparameter_path\u001b[0m \u001b[0;34m+\u001b[0m \u001b[0;34m\"pnet_v{}\"\u001b[0m\u001b[0;34m.\u001b[0m\u001b[0mformat\u001b[0m\u001b[0;34m(\u001b[0m\u001b[0mversion\u001b[0m\u001b[0;34m)\u001b[0m\u001b[0;34m)\u001b[0m\u001b[0;34m)\u001b[0m\u001b[0;34m\u001b[0m\u001b[0;34m\u001b[0m\u001b[0m\n",
      "\u001b[0;32m~/Code/DL/alphazero/neural_nets.py\u001b[0m in \u001b[0;36m__init__\u001b[0;34m(self)\u001b[0m\n\u001b[1;32m     25\u001b[0m \u001b[0;34m\u001b[0m\u001b[0m\n\u001b[1;32m     26\u001b[0m     \u001b[0;32mdef\u001b[0m \u001b[0m__init__\u001b[0m\u001b[0;34m(\u001b[0m\u001b[0mself\u001b[0m\u001b[0;34m)\u001b[0m\u001b[0;34m:\u001b[0m\u001b[0;34m\u001b[0m\u001b[0;34m\u001b[0m\u001b[0m\n\u001b[0;32m---> 27\u001b[0;31m         \u001b[0msuper\u001b[0m\u001b[0;34m(\u001b[0m\u001b[0mPolicyNet\u001b[0m\u001b[0;34m,\u001b[0m \u001b[0mself\u001b[0m\u001b[0;34m)\u001b[0m\u001b[0;34m.\u001b[0m\u001b[0m__init__\u001b[0m\u001b[0;34m(\u001b[0m\u001b[0;34m)\u001b[0m\u001b[0;34m\u001b[0m\u001b[0;34m\u001b[0m\u001b[0m\n\u001b[0m\u001b[1;32m     28\u001b[0m         \u001b[0mself\u001b[0m\u001b[0;34m.\u001b[0m\u001b[0ml1\u001b[0m \u001b[0;34m=\u001b[0m \u001b[0mnn\u001b[0m\u001b[0;34m.\u001b[0m\u001b[0mLinear\u001b[0m\u001b[0;34m(\u001b[0m\u001b[0;36m9\u001b[0m\u001b[0;34m,\u001b[0m\u001b[0;36m32\u001b[0m\u001b[0;34m)\u001b[0m\u001b[0;34m\u001b[0m\u001b[0;34m\u001b[0m\u001b[0m\n\u001b[1;32m     29\u001b[0m         \u001b[0mself\u001b[0m\u001b[0;34m.\u001b[0m\u001b[0ml2\u001b[0m \u001b[0;34m=\u001b[0m \u001b[0mnn\u001b[0m\u001b[0;34m.\u001b[0m\u001b[0mLinear\u001b[0m\u001b[0;34m(\u001b[0m\u001b[0;36m32\u001b[0m\u001b[0;34m,\u001b[0m\u001b[0;36m9\u001b[0m\u001b[0;34m)\u001b[0m\u001b[0;34m\u001b[0m\u001b[0;34m\u001b[0m\u001b[0m\n",
      "\u001b[0;31mTypeError\u001b[0m: super(type, obj): obj must be an instance or subtype of type"
     ]
    }
   ],
   "source": [
    "model = PolicyNet()\n",
    "\n",
    "version = iterations-1\n",
    "if version > 0: # load parameters from previous versions\n",
    "    model.load_state_dict(torch.load(parameter_path + \"pnet_v{}\".format(version)))\n",
    "print(version)"
   ]
  },
  {
   "cell_type": "code",
   "execution_count": 35,
   "id": "a10304a5",
   "metadata": {},
   "outputs": [
    {
     "name": "stdout",
     "output_type": "stream",
     "text": [
      "Bad start\n",
      " [[ 1 -1  0]\n",
      " [-1  1  0]\n",
      " [ 0  0  0]]\n",
      "tensor([-2.4101, -1.5256, -3.6887, -4.6060, -2.7868, -4.4087, -1.4790, -3.3126,\n",
      "        -1.1406], grad_fn=<LogSoftmaxBackward>)\n",
      "Q = tensor([0.0689, 0.1697, 0.0335, 0.6276, 0.1003])\n"
     ]
    }
   ],
   "source": [
    "state = [1, -1, 0, -1, 1, 0, 0, 0, 0]\n",
    "print(\"Bad start\\n\", np.array(state).reshape(3,3))\n",
    "out = model(torch.tensor(state).float())\n",
    "print(out)\n",
    "mask = out.detach()[[2,4,5,6,7]]\n",
    "print(\"Q =\",mask.exp()/mask.exp().sum())"
   ]
  },
  {
   "cell_type": "code",
   "execution_count": 6,
   "id": "e18db7d9",
   "metadata": {},
   "outputs": [
    {
     "data": {
      "text/plain": [
       "array([], shape=(0, 0), dtype=int64)"
      ]
     },
     "execution_count": 6,
     "metadata": {},
     "output_type": "execute_result"
    }
   ],
   "source": [
    "np.argwhere(state==0)"
   ]
  },
  {
   "cell_type": "code",
   "execution_count": null,
   "id": "a13eb745",
   "metadata": {},
   "outputs": [],
   "source": []
  },
  {
   "cell_type": "code",
   "execution_count": 10,
   "id": "7ca440ba",
   "metadata": {},
   "outputs": [
    {
     "data": {
      "image/png": "[encoded data removed]",
      "text/plain": [
       "<Figure size 432x288 with 1 Axes>"
      ]
     },
     "metadata": {
      "needs_background": "light"
     },
     "output_type": "display_data"
    },
    {
     "data": {
      "text/plain": [
       "<BarContainer object of 9 artists>"
      ]
     },
     "execution_count": 10,
     "metadata": {},
     "output_type": "execute_result"
    },
    {
     "data": {
      "image/png": "[encoded data removed]",
      "text/plain": [
       "<Figure size 432x288 with 1 Axes>"
      ]
     },
     "metadata": {
      "needs_background": "light"
     },
     "output_type": "display_data"
    }
   ],
   "source": [
    "i = 1\n",
    "plt.bar(np.arange(9), np.exp(output[i,:].cpu().detach().numpy()))\n",
    "plt.show()\n",
    "\n",
    "plt.bar(np.arange(9), np.exp(y[i,:].cpu().detach().numpy()))"
   ]
  },
  {
   "cell_type": "code",
   "execution_count": null,
   "id": "70ad7339",
   "metadata": {},
   "outputs": [],
   "source": [
    "iters = 10\n",
    "for i in range(iters):\n",
    "    \n",
    "    engine = Self_Play(games=100, depth=500, temperature=1)\n",
    "    state_log, mcts_log, win_log = engine.play()"
   ]
  },
  {
   "cell_type": "code",
   "execution_count": null,
   "id": "e1e4dcc0",
   "metadata": {},
   "outputs": [],
   "source": []
  },
  {
   "cell_type": "code",
   "execution_count": 49,
   "id": "2d32d0ff",
   "metadata": {},
   "outputs": [
    {
     "name": "stdout",
     "output_type": "stream",
     "text": [
      "[[0 1 2]\n",
      " [3 4 5]\n",
      " [6 7 8]]\n"
     ]
    }
   ],
   "source": [
    "state = [1, -1]\n",
    "print(np.array(np.arange(9)).reshape(3,3))"
   ]
  },
  {
   "cell_type": "code",
   "execution_count": 23,
   "id": "618489c7",
   "metadata": {
    "scrolled": true
   },
   "outputs": [
    {
     "ename": "TypeError",
     "evalue": "super(type, obj): obj must be an instance or subtype of type",
     "output_type": "error",
     "traceback": [
      "\u001b[0;31m---------------------------------------------------------------------------\u001b[0m",
      "\u001b[0;31mTypeError\u001b[0m                                 Traceback (most recent call last)",
      "\u001b[0;32m<ipython-input-23-3354c0efc660>\u001b[0m in \u001b[0;36m<module>\u001b[0;34m\u001b[0m\n\u001b[1;32m      1\u001b[0m \u001b[0mstate\u001b[0m \u001b[0;34m=\u001b[0m \u001b[0;34m[\u001b[0m\u001b[0;34m-\u001b[0m\u001b[0;36m1\u001b[0m\u001b[0;34m,\u001b[0m \u001b[0;36m0\u001b[0m\u001b[0;34m,\u001b[0m \u001b[0;36m0\u001b[0m\u001b[0;34m,\u001b[0m \u001b[0;36m0\u001b[0m\u001b[0;34m,\u001b[0m \u001b[0;36m0\u001b[0m\u001b[0;34m,\u001b[0m \u001b[0;36m0\u001b[0m\u001b[0;34m,\u001b[0m \u001b[0;36m0\u001b[0m\u001b[0;34m,\u001b[0m \u001b[0;36m0\u001b[0m\u001b[0;34m,\u001b[0m \u001b[0;36m0\u001b[0m\u001b[0;34m]\u001b[0m\u001b[0;34m\u001b[0m\u001b[0;34m\u001b[0m\u001b[0m\n\u001b[1;32m      2\u001b[0m \u001b[0mmcts\u001b[0m \u001b[0;34m=\u001b[0m \u001b[0mMCTS\u001b[0m\u001b[0;34m(\u001b[0m\u001b[0mstate\u001b[0m \u001b[0;34m,\u001b[0m \u001b[0;36m1\u001b[0m\u001b[0;34m,\u001b[0m \u001b[0;36m4000\u001b[0m\u001b[0;34m,\u001b[0m \u001b[0mparameter_path\u001b[0m\u001b[0;34m)\u001b[0m\u001b[0;34m\u001b[0m\u001b[0;34m\u001b[0m\u001b[0m\n\u001b[0;32m----> 3\u001b[0;31m \u001b[0mroot\u001b[0m \u001b[0;34m=\u001b[0m \u001b[0mmcts\u001b[0m\u001b[0;34m.\u001b[0m\u001b[0msearch\u001b[0m\u001b[0;34m(\u001b[0m\u001b[0mversion\u001b[0m\u001b[0;34m=\u001b[0m\u001b[0;36m3\u001b[0m\u001b[0;34m)\u001b[0m\u001b[0;34m\u001b[0m\u001b[0;34m\u001b[0m\u001b[0m\n\u001b[0m\u001b[1;32m      4\u001b[0m \u001b[0mt\u001b[0m \u001b[0;34m=\u001b[0m \u001b[0;36m1\u001b[0m\u001b[0;34m\u001b[0m\u001b[0;34m\u001b[0m\u001b[0m\n\u001b[1;32m      5\u001b[0m \u001b[0mvisits\u001b[0m \u001b[0;34m=\u001b[0m \u001b[0;34m[\u001b[0m\u001b[0mroot\u001b[0m\u001b[0;34m.\u001b[0m\u001b[0mchild\u001b[0m\u001b[0;34m[\u001b[0m\u001b[0mi\u001b[0m\u001b[0;34m]\u001b[0m\u001b[0;34m.\u001b[0m\u001b[0mN\u001b[0m\u001b[0;34m**\u001b[0m\u001b[0mt\u001b[0m \u001b[0;32mfor\u001b[0m \u001b[0mi\u001b[0m \u001b[0;32min\u001b[0m \u001b[0mrange\u001b[0m\u001b[0;34m(\u001b[0m\u001b[0mlen\u001b[0m\u001b[0;34m(\u001b[0m\u001b[0mroot\u001b[0m\u001b[0;34m.\u001b[0m\u001b[0mchild\u001b[0m\u001b[0;34m)\u001b[0m\u001b[0;34m)\u001b[0m\u001b[0;34m]\u001b[0m\u001b[0;34m\u001b[0m\u001b[0;34m\u001b[0m\u001b[0m\n",
      "\u001b[0;32m~/Code/DL/alphazero/mcts.py\u001b[0m in \u001b[0;36msearch\u001b[0;34m(self, version)\u001b[0m\n\u001b[1;32m     17\u001b[0m     \u001b[0;32mdef\u001b[0m \u001b[0msearch\u001b[0m\u001b[0;34m(\u001b[0m\u001b[0mself\u001b[0m\u001b[0;34m,\u001b[0m \u001b[0mversion\u001b[0m\u001b[0;34m)\u001b[0m\u001b[0;34m:\u001b[0m\u001b[0;34m\u001b[0m\u001b[0;34m\u001b[0m\u001b[0m\n\u001b[1;32m     18\u001b[0m \u001b[0;34m\u001b[0m\u001b[0m\n\u001b[0;32m---> 19\u001b[0;31m         \u001b[0mpnet\u001b[0m \u001b[0;34m=\u001b[0m \u001b[0mPolicyNet\u001b[0m\u001b[0;34m(\u001b[0m\u001b[0;34m)\u001b[0m\u001b[0;34m\u001b[0m\u001b[0;34m\u001b[0m\u001b[0m\n\u001b[0m\u001b[1;32m     20\u001b[0m         \u001b[0mvnet\u001b[0m \u001b[0;34m=\u001b[0m \u001b[0mValueNet\u001b[0m\u001b[0;34m(\u001b[0m\u001b[0;34m)\u001b[0m\u001b[0;34m\u001b[0m\u001b[0;34m\u001b[0m\u001b[0m\n\u001b[1;32m     21\u001b[0m \u001b[0;34m\u001b[0m\u001b[0m\n",
      "\u001b[0;32m~/Code/DL/alphazero/neural_nets.py\u001b[0m in \u001b[0;36m__init__\u001b[0;34m(self)\u001b[0m\n\u001b[1;32m     25\u001b[0m \u001b[0;34m\u001b[0m\u001b[0m\n\u001b[1;32m     26\u001b[0m     \u001b[0;32mdef\u001b[0m \u001b[0m__init__\u001b[0m\u001b[0;34m(\u001b[0m\u001b[0mself\u001b[0m\u001b[0;34m)\u001b[0m\u001b[0;34m:\u001b[0m\u001b[0;34m\u001b[0m\u001b[0;34m\u001b[0m\u001b[0m\n\u001b[0;32m---> 27\u001b[0;31m         \u001b[0msuper\u001b[0m\u001b[0;34m(\u001b[0m\u001b[0mPolicyNet\u001b[0m\u001b[0;34m,\u001b[0m \u001b[0mself\u001b[0m\u001b[0;34m)\u001b[0m\u001b[0;34m.\u001b[0m\u001b[0m__init__\u001b[0m\u001b[0;34m(\u001b[0m\u001b[0;34m)\u001b[0m\u001b[0;34m\u001b[0m\u001b[0;34m\u001b[0m\u001b[0m\n\u001b[0m\u001b[1;32m     28\u001b[0m         \u001b[0mself\u001b[0m\u001b[0;34m.\u001b[0m\u001b[0ml1\u001b[0m \u001b[0;34m=\u001b[0m \u001b[0mnn\u001b[0m\u001b[0;34m.\u001b[0m\u001b[0mLinear\u001b[0m\u001b[0;34m(\u001b[0m\u001b[0;36m9\u001b[0m\u001b[0;34m,\u001b[0m\u001b[0;36m32\u001b[0m\u001b[0;34m)\u001b[0m\u001b[0;34m\u001b[0m\u001b[0;34m\u001b[0m\u001b[0m\n\u001b[1;32m     29\u001b[0m         \u001b[0mself\u001b[0m\u001b[0;34m.\u001b[0m\u001b[0ml2\u001b[0m \u001b[0;34m=\u001b[0m \u001b[0mnn\u001b[0m\u001b[0;34m.\u001b[0m\u001b[0mLinear\u001b[0m\u001b[0;34m(\u001b[0m\u001b[0;36m32\u001b[0m\u001b[0;34m,\u001b[0m\u001b[0;36m9\u001b[0m\u001b[0;34m)\u001b[0m\u001b[0;34m\u001b[0m\u001b[0;34m\u001b[0m\u001b[0m\n",
      "\u001b[0;31mTypeError\u001b[0m: super(type, obj): obj must be an instance or subtype of type"
     ]
    }
   ],
   "source": [
    "state = [-1, 0, 0, 0, 0, 0, 0, 0, 0]\n",
    "mcts = MCTS(state , 1, 4000, parameter_path)\n",
    "root = mcts.search(version=3)\n",
    "t = 1\n",
    "visits = [root.child[i].N**t for i in range(len(root.child))]\n",
    "print((visits/np.sum(visits)), (visits/np.sum(visits))[3])\n",
    "print(\"Next Move =\", np.random.choice(np.arange(len(visits)), p=visits/np.sum(visits), size=1)[0])"
   ]
  },
  {
   "cell_type": "code",
   "execution_count": 59,
   "id": "71f14ad2",
   "metadata": {},
   "outputs": [
    {
     "name": "stdout",
     "output_type": "stream",
     "text": [
      "[[-1  0  0]\n",
      " [-1  1  1]\n",
      " [ 0  0  0]]\n"
     ]
    }
   ],
   "source": [
    "state = [-1, 0, 0, -1, 1, 1, 0, 0, 0]\n",
    "print(np.array(state).reshape(3,3))"
   ]
  },
  {
   "cell_type": "code",
   "execution_count": 42,
   "id": "ad070d93",
   "metadata": {},
   "outputs": [
    {
     "ename": "TypeError",
     "evalue": "__init__() missing 1 required positional argument: 'parameter_path'",
     "output_type": "error",
     "traceback": [
      "\u001b[0;31m---------------------------------------------------------------------------\u001b[0m",
      "\u001b[0;31mTypeError\u001b[0m                                 Traceback (most recent call last)",
      "\u001b[0;32m<ipython-input-42-0125eea6d206>\u001b[0m in \u001b[0;36m<module>\u001b[0;34m\u001b[0m\n\u001b[1;32m      5\u001b[0m \u001b[0;31m#while env.check_terminality()==None:\u001b[0m\u001b[0;34m\u001b[0m\u001b[0;34m\u001b[0m\u001b[0m\n\u001b[1;32m      6\u001b[0m \u001b[0;32mfor\u001b[0m \u001b[0mi\u001b[0m \u001b[0;32min\u001b[0m \u001b[0mrange\u001b[0m\u001b[0;34m(\u001b[0m\u001b[0;36m4\u001b[0m\u001b[0;34m)\u001b[0m\u001b[0;34m:\u001b[0m\u001b[0;34m\u001b[0m\u001b[0;34m\u001b[0m\u001b[0m\n\u001b[0;32m----> 7\u001b[0;31m     \u001b[0mmcts\u001b[0m \u001b[0;34m=\u001b[0m \u001b[0mMCTS\u001b[0m\u001b[0;34m(\u001b[0m\u001b[0mstate\u001b[0m\u001b[0;34m,\u001b[0m \u001b[0;36m1\u001b[0m\u001b[0;34m,\u001b[0m \u001b[0;36m1000\u001b[0m\u001b[0;34m)\u001b[0m\u001b[0;34m\u001b[0m\u001b[0;34m\u001b[0m\u001b[0m\n\u001b[0m\u001b[1;32m      8\u001b[0m     \u001b[0mroot\u001b[0m \u001b[0;34m=\u001b[0m \u001b[0mmcts\u001b[0m\u001b[0;34m.\u001b[0m\u001b[0msearch\u001b[0m\u001b[0;34m(\u001b[0m\u001b[0;34m)\u001b[0m\u001b[0;34m\u001b[0m\u001b[0;34m\u001b[0m\u001b[0m\n\u001b[1;32m      9\u001b[0m     \u001b[0ma\u001b[0m\u001b[0;34m,\u001b[0m \u001b[0mpi\u001b[0m \u001b[0;34m=\u001b[0m \u001b[0mroot\u001b[0m\u001b[0;34m.\u001b[0m\u001b[0msample_action\u001b[0m\u001b[0;34m(\u001b[0m\u001b[0mtemperature\u001b[0m\u001b[0;34m=\u001b[0m\u001b[0;36m5\u001b[0m\u001b[0;34m)\u001b[0m\u001b[0;34m\u001b[0m\u001b[0;34m\u001b[0m\u001b[0m\n",
      "\u001b[0;31mTypeError\u001b[0m: __init__() missing 1 required positional argument: 'parameter_path'"
     ]
    }
   ],
   "source": [
    "state = [0]*9\n",
    "\n",
    "env = TTT()\n",
    "\n",
    "#while env.check_terminality()==None:\n",
    "for i in range(4):\n",
    "    mcts = MCTS(state, 1, 1000)\n",
    "    root = mcts.search()\n",
    "    a, pi = root.sample_action(temperature=5)\n",
    "    print(len(root.child))\n",
    "    legal_moves = env.legal_moves(state)[0]\n",
    "    state[legal_moves[a]] = 1\n",
    "    print(np.array(state).reshape(3,3), legal_moves, a)\n",
    "\n",
    "    #print(np.array(state).reshape(3,3), legal_moves, a)\n",
    "\n",
    "    state = [-x for x in state]\n",
    "    env = TTT(state)"
   ]
  },
  {
   "cell_type": "code",
   "execution_count": 401,
   "id": "01deae7d",
   "metadata": {
    "scrolled": false
   },
   "outputs": [
    {
     "name": "stdout",
     "output_type": "stream",
     "text": [
      "0 1535 176.3277704194188 0.11487151167388848\n",
      "1 279 66.03784360736609 0.23669477995471716\n",
      "2 1554 178.07969637587667 0.11459439921227585\n",
      "3 280 66.32981521263719 0.23689219718798996\n",
      "4 309 69.42006818950176 0.2246604148527565\n",
      "5 1338 158.91950853914022 0.11877392267499269\n",
      "6 254 63.9177006483078 0.2516444907413693\n",
      "7 4451 385.4065964743495 0.08658876577720725\n"
     ]
    }
   ],
   "source": [
    "for i in range(len(root.child)):\n",
    "    print(i, root.child[i].N, root.child[i].value, root.child[i].value/root.child[i].N)"
   ]
  },
  {
   "cell_type": "code",
   "execution_count": 551,
   "id": "2c62960e",
   "metadata": {},
   "outputs": [
    {
     "data": {
      "text/plain": [
       "array([[-1]])"
      ]
     },
     "execution_count": 551,
     "metadata": {},
     "output_type": "execute_result"
    }
   ],
   "source": [
    "win_log = np.empty((0,1), int)\n",
    "win_log2 = np.append(win_log, np.array(-1).reshape(1,-1), axis=0)\n",
    "win_log2"
   ]
  },
  {
   "cell_type": "code",
   "execution_count": 552,
   "id": "faf53fb2",
   "metadata": {},
   "outputs": [
    {
     "data": {
      "text/plain": [
       "array([[-1],\n",
       "       [ 1]])"
      ]
     },
     "execution_count": 552,
     "metadata": {},
     "output_type": "execute_result"
    }
   ],
   "source": [
    "win_log3 = np.append(win_log2, np.array(1).reshape(1,-1), axis=0)\n",
    "win_log3"
   ]
  },
  {
   "cell_type": "code",
   "execution_count": 10,
   "id": "67d83f2f",
   "metadata": {},
   "outputs": [
    {
     "name": "stdout",
     "output_type": "stream",
     "text": [
      "<mcts.Node object at 0x7f8ad41a2760> [0, 0, 0, 0, 0, 0, 0, 0, 0]\n",
      "<mcts.Node object at 0x7f8ad41a2760> <mcts.Node object at 0x7f8a3c5c9250>\n",
      "test_t <mcts.Node object at 0x7f8a3c5c9250> [1, 0, 0, 0, 0, 0, 0, 0, 0]\n",
      "{0: <mcts.Node object at 0x7f8ad41a2d00>, 1: <mcts.Node object at 0x7f8a3c5cd340>, 2: <mcts.Node object at 0x7f8a3c5cd4f0>, 3: <mcts.Node object at 0x7f8a3c5cd4c0>, 4: <mcts.Node object at 0x7f8a3c5cd400>, 5: <mcts.Node object at 0x7f8a3c5cd2e0>, 6: <mcts.Node object at 0x7f8a3c5cdb50>, 7: <mcts.Node object at 0x7f8a3c5cd940>}\n",
      "0.1111111111111111\n",
      "<mcts.Node object at 0x7f8a3c5c9250> [1, 0, 0, 1, 0, 0, 0, 0, 0]\n"
     ]
    }
   ],
   "source": [
    "test = Node([0]*9, 1)\n",
    "print(test, test.state)\n",
    "test.expand(1, [0.5]*9)\n",
    "print(test, test.child[0])\n",
    "test_t = test.child[0]\n",
    "print(\"test_t\", test_t, test_t.state)\n",
    "test_t.expand(1, [1/9]*9)\n",
    "print(test_t.child)\n",
    "print(test_t.child[0].prior)\n",
    "print(test_t, test_t.child[2].state)"
   ]
  },
  {
   "cell_type": "code",
   "execution_count": 15,
   "id": "bd21ad74",
   "metadata": {},
   "outputs": [
    {
     "name": "stdout",
     "output_type": "stream",
     "text": [
      "0 0\n",
      "1 1\n",
      "2 2\n",
      "3 3\n",
      "4 4\n",
      "5 5\n",
      "6 6\n",
      "7 7\n"
     ]
    }
   ],
   "source": [
    "for a,b in enumerate(test_t.child):\n",
    "    print(a,b)"
   ]
  },
  {
   "cell_type": "code",
   "execution_count": 20,
   "id": "4d162c90",
   "metadata": {},
   "outputs": [
    {
     "name": "stdout",
     "output_type": "stream",
     "text": [
      "[-1, -2, -3, -4, -5]\n"
     ]
    }
   ],
   "source": [
    "test = [1,2,3,4,5]\n",
    "test = [-x for x in test]\n",
    "\n",
    "print(test)"
   ]
  },
  {
   "cell_type": "code",
   "execution_count": 5,
   "id": "fb97054a",
   "metadata": {},
   "outputs": [
    {
     "ename": "NameError",
     "evalue": "name 'TTT' is not defined",
     "output_type": "error",
     "traceback": [
      "\u001b[0;31m---------------------------------------------------------------------------\u001b[0m",
      "\u001b[0;31mNameError\u001b[0m                                 Traceback (most recent call last)",
      "\u001b[0;32m<ipython-input-5-66f4ba95b8f0>\u001b[0m in \u001b[0;36m<module>\u001b[0;34m\u001b[0m\n\u001b[1;32m      1\u001b[0m \u001b[0mpnet\u001b[0m \u001b[0;34m=\u001b[0m \u001b[0mPolicyNet\u001b[0m\u001b[0;34m(\u001b[0m\u001b[0;34m)\u001b[0m\u001b[0;34m\u001b[0m\u001b[0;34m\u001b[0m\u001b[0m\n\u001b[0;32m----> 2\u001b[0;31m \u001b[0menv\u001b[0m \u001b[0;34m=\u001b[0m \u001b[0mTTT\u001b[0m\u001b[0;34m(\u001b[0m\u001b[0;34m)\u001b[0m\u001b[0;34m\u001b[0m\u001b[0;34m\u001b[0m\u001b[0m\n\u001b[0m\u001b[1;32m      3\u001b[0m \u001b[0mprint\u001b[0m\u001b[0;34m(\u001b[0m\u001b[0menv\u001b[0m\u001b[0;34m.\u001b[0m\u001b[0mstate\u001b[0m\u001b[0;34m)\u001b[0m\u001b[0;34m\u001b[0m\u001b[0;34m\u001b[0m\u001b[0m\n\u001b[1;32m      4\u001b[0m \u001b[0mp_policy\u001b[0m \u001b[0;34m=\u001b[0m \u001b[0mpnet\u001b[0m\u001b[0;34m(\u001b[0m\u001b[0mtorch\u001b[0m\u001b[0;34m.\u001b[0m\u001b[0mtensor\u001b[0m\u001b[0;34m(\u001b[0m\u001b[0menv\u001b[0m\u001b[0;34m.\u001b[0m\u001b[0mstate\u001b[0m\u001b[0;34m)\u001b[0m\u001b[0;34m.\u001b[0m\u001b[0mfloat\u001b[0m\u001b[0;34m(\u001b[0m\u001b[0;34m)\u001b[0m\u001b[0;34m)\u001b[0m\u001b[0;34m\u001b[0m\u001b[0;34m\u001b[0m\u001b[0m\n\u001b[1;32m      5\u001b[0m \u001b[0mprint\u001b[0m\u001b[0;34m(\u001b[0m\u001b[0mp_policy\u001b[0m\u001b[0;34m)\u001b[0m\u001b[0;34m\u001b[0m\u001b[0;34m\u001b[0m\u001b[0m\n",
      "\u001b[0;31mNameError\u001b[0m: name 'TTT' is not defined"
     ]
    }
   ],
   "source": [
    "pnet = PolicyNet()\n",
    "env = TTT()\n",
    "print(env.state)\n",
    "p_policy = pnet(torch.tensor(env.state).float())\n",
    "print(p_policy)\n",
    "\n",
    "plt.bar(np.arange(9), p_policy.detach().numpy());\n",
    "#plt.bar(np.arange(9), np.exp(p_policy.detach().numpy()));\n",
    "print(p_policy.detach().numpy())\n",
    "\n",
    "value + (prior / (1+N))"
   ]
  },
  {
   "cell_type": "code",
   "execution_count": 111,
   "id": "d3770d1b",
   "metadata": {},
   "outputs": [
    {
     "name": "stdout",
     "output_type": "stream",
     "text": [
      "{}\n"
     ]
    }
   ],
   "source": [
    "yep = Node([0]*9, 1, 1)\n",
    "print(yep.children)\n",
    "yep.expand([0]*9, 1)\n",
    "scores = [UCB_scoring(yep.children[x].prior) for x in range(len(yep.children))]"
   ]
  },
  {
   "cell_type": "code",
   "execution_count": 149,
   "id": "5949a641",
   "metadata": {},
   "outputs": [
    {
     "data": {
      "text/plain": [
       "1"
      ]
     },
     "execution_count": 149,
     "metadata": {},
     "output_type": "execute_result"
    }
   ],
   "source": [
    "torch.multinomial(torch.tensor(scores).float(), 1)[0].item()"
   ]
  },
  {
   "cell_type": "code",
   "execution_count": 187,
   "id": "75e22d91",
   "metadata": {},
   "outputs": [
    {
     "ename": "RuntimeError",
     "evalue": "Could not infer dtype of ellipsis",
     "output_type": "error",
     "traceback": [
      "\u001b[0;31m---------------------------------------------------------------------------\u001b[0m",
      "\u001b[0;31mRuntimeError\u001b[0m                              Traceback (most recent call last)",
      "\u001b[0;32m<ipython-input-187-58364d15a200>\u001b[0m in \u001b[0;36m<module>\u001b[0;34m\u001b[0m\n\u001b[1;32m      1\u001b[0m \u001b[0mtest1\u001b[0m \u001b[0;34m=\u001b[0m \u001b[0mMCTS2\u001b[0m\u001b[0;34m(\u001b[0m\u001b[0;34m[\u001b[0m\u001b[0;36m0\u001b[0m\u001b[0;34m]\u001b[0m\u001b[0;34m*\u001b[0m\u001b[0;36m9\u001b[0m\u001b[0;34m,\u001b[0m \u001b[0menv\u001b[0m\u001b[0;34m,\u001b[0m \u001b[0;36m3\u001b[0m\u001b[0;34m)\u001b[0m\u001b[0;34m\u001b[0m\u001b[0;34m\u001b[0m\u001b[0m\n\u001b[0;32m----> 2\u001b[0;31m \u001b[0mtest1\u001b[0m\u001b[0;34m.\u001b[0m\u001b[0msearch\u001b[0m\u001b[0;34m(\u001b[0m\u001b[0;34m)\u001b[0m\u001b[0;34m\u001b[0m\u001b[0;34m\u001b[0m\u001b[0m\n\u001b[0m\u001b[1;32m      3\u001b[0m \u001b[0mtest1\u001b[0m\u001b[0;34m.\u001b[0m\u001b[0mroot\u001b[0m\u001b[0;34m.\u001b[0m\u001b[0mchildren\u001b[0m\u001b[0;34m\u001b[0m\u001b[0;34m\u001b[0m\u001b[0m\n\u001b[1;32m      4\u001b[0m \u001b[0;32mfor\u001b[0m \u001b[0mi\u001b[0m \u001b[0;32min\u001b[0m \u001b[0mrange\u001b[0m\u001b[0;34m(\u001b[0m\u001b[0;36m9\u001b[0m\u001b[0;34m)\u001b[0m\u001b[0;34m:\u001b[0m\u001b[0;34m\u001b[0m\u001b[0;34m\u001b[0m\u001b[0m\n\u001b[1;32m      5\u001b[0m     \u001b[0mprint\u001b[0m\u001b[0;34m(\u001b[0m\u001b[0mtest1\u001b[0m\u001b[0;34m.\u001b[0m\u001b[0mroot\u001b[0m\u001b[0;34m.\u001b[0m\u001b[0mchildren\u001b[0m\u001b[0;34m[\u001b[0m\u001b[0mi\u001b[0m\u001b[0;34m]\u001b[0m\u001b[0;34m.\u001b[0m\u001b[0mexpanded\u001b[0m\u001b[0;34m)\u001b[0m\u001b[0;34m\u001b[0m\u001b[0;34m\u001b[0m\u001b[0m\n",
      "\u001b[0;32m<ipython-input-186-6d260a93be5d>\u001b[0m in \u001b[0;36msearch\u001b[0;34m(self)\u001b[0m\n\u001b[1;32m     20\u001b[0m                 \u001b[0mscores\u001b[0m \u001b[0;34m=\u001b[0m \u001b[0;34m...\u001b[0m\u001b[0;34m\u001b[0m\u001b[0;34m\u001b[0m\u001b[0m\n\u001b[1;32m     21\u001b[0m                 \u001b[0;34m[\u001b[0m\u001b[0mself\u001b[0m\u001b[0;34m.\u001b[0m\u001b[0mUCB_scoring\u001b[0m\u001b[0;34m(\u001b[0m\u001b[0mself\u001b[0m\u001b[0;34m.\u001b[0m\u001b[0mroot\u001b[0m\u001b[0;34m.\u001b[0m\u001b[0mchildren\u001b[0m\u001b[0;34m[\u001b[0m\u001b[0mi\u001b[0m\u001b[0;34m]\u001b[0m\u001b[0;34m.\u001b[0m\u001b[0mvalue\u001b[0m\u001b[0;34m,\u001b[0m \u001b[0mself\u001b[0m\u001b[0;34m.\u001b[0m\u001b[0mroot\u001b[0m\u001b[0;34m.\u001b[0m\u001b[0mchildren\u001b[0m\u001b[0;34m[\u001b[0m\u001b[0mi\u001b[0m\u001b[0;34m]\u001b[0m\u001b[0;34m.\u001b[0m\u001b[0mprior\u001b[0m\u001b[0;34m,\u001b[0m \u001b[0mself\u001b[0m\u001b[0;34m.\u001b[0m\u001b[0mroot\u001b[0m\u001b[0;34m.\u001b[0m\u001b[0mchildren\u001b[0m\u001b[0;34m[\u001b[0m\u001b[0mi\u001b[0m\u001b[0;34m]\u001b[0m\u001b[0;34m.\u001b[0m\u001b[0mN\u001b[0m\u001b[0;34m)\u001b[0m \u001b[0;32mfor\u001b[0m \u001b[0mi\u001b[0m \u001b[0;32min\u001b[0m \u001b[0mrange\u001b[0m\u001b[0;34m(\u001b[0m\u001b[0mlen\u001b[0m\u001b[0;34m(\u001b[0m\u001b[0mself\u001b[0m\u001b[0;34m.\u001b[0m\u001b[0mroot\u001b[0m\u001b[0;34m.\u001b[0m\u001b[0mchildren\u001b[0m\u001b[0;34m)\u001b[0m\u001b[0;34m)\u001b[0m\u001b[0;34m]\u001b[0m \u001b[0;31m# Score each child\u001b[0m\u001b[0;34m\u001b[0m\u001b[0;34m\u001b[0m\u001b[0m\n\u001b[0;32m---> 22\u001b[0;31m                 \u001b[0ma\u001b[0m \u001b[0;34m=\u001b[0m \u001b[0mtorch\u001b[0m\u001b[0;34m.\u001b[0m\u001b[0mmultinomial\u001b[0m\u001b[0;34m(\u001b[0m\u001b[0mtorch\u001b[0m\u001b[0;34m.\u001b[0m\u001b[0mtensor\u001b[0m\u001b[0;34m(\u001b[0m\u001b[0mscores\u001b[0m\u001b[0;34m)\u001b[0m\u001b[0;34m.\u001b[0m\u001b[0mfloat\u001b[0m\u001b[0;34m(\u001b[0m\u001b[0;34m)\u001b[0m\u001b[0;34m,\u001b[0m \u001b[0;36m1\u001b[0m\u001b[0;34m)\u001b[0m\u001b[0;34m[\u001b[0m\u001b[0;36m0\u001b[0m\u001b[0;34m]\u001b[0m\u001b[0;34m.\u001b[0m\u001b[0mitem\u001b[0m\u001b[0;34m(\u001b[0m\u001b[0;34m)\u001b[0m \u001b[0;31m# Select a child\u001b[0m\u001b[0;34m\u001b[0m\u001b[0;34m\u001b[0m\u001b[0m\n\u001b[0m\u001b[1;32m     23\u001b[0m                 \u001b[0mprint\u001b[0m\u001b[0;34m(\u001b[0m\u001b[0ma\u001b[0m\u001b[0;34m)\u001b[0m\u001b[0;34m\u001b[0m\u001b[0;34m\u001b[0m\u001b[0m\n\u001b[1;32m     24\u001b[0m                 \u001b[0mself\u001b[0m\u001b[0;34m.\u001b[0m\u001b[0mroot\u001b[0m\u001b[0;34m.\u001b[0m\u001b[0mchildren\u001b[0m\u001b[0;34m[\u001b[0m\u001b[0ma\u001b[0m\u001b[0;34m]\u001b[0m\u001b[0;34m.\u001b[0m\u001b[0mexpand\u001b[0m\u001b[0;34m(\u001b[0m\u001b[0;34m)\u001b[0m\u001b[0;34m\u001b[0m\u001b[0;34m\u001b[0m\u001b[0m\n",
      "\u001b[0;31mRuntimeError\u001b[0m: Could not infer dtype of ellipsis"
     ]
    }
   ],
   "source": [
    "test1 = MCTS2([0]*9, env, 3)\n",
    "test1.search()\n",
    "test1.root.children\n",
    "for i in range(9):\n",
    "    print(test1.root.children[i].expanded)"
   ]
  },
  {
   "cell_type": "code",
   "execution_count": 186,
   "id": "00a36329",
   "metadata": {},
   "outputs": [],
   "source": [
    "class MCTS2():\n",
    "    \n",
    "    def __init__(self, state, env, runs):\n",
    "               \n",
    "        self.state = state\n",
    "        self.env = env\n",
    "        self.runs = runs\n",
    "\n",
    "    def search(self):\n",
    "        \n",
    "        pnet = PolicyNet()\n",
    "        vnet = ValueNet()\n",
    "        \n",
    "        p_policy = pnet( torch.tensor(self.env.state).float())\n",
    "\n",
    "        self.root = Node(self.state.copy(), 1, prior=p_policy)\n",
    "        \n",
    "        for run in range(self.runs):\n",
    "            if self.root.expanded:\n",
    "                scores = ...\n",
    "                [self.UCB_scoring(self.root.children[i].value, self.root.children[i].prior, self.root.children[i].N) for i in range(len(self.root.children))] # Score each child\n",
    "                a = torch.multinomial(torch.tensor(scores).float(), 1)[0].item() # Select a child\n",
    "                print(a)\n",
    "                self.root.children[a].expand()\n",
    "            else:\n",
    "                self.root.expand(self.state, 1)\n",
    "                # select a child and value it\n",
    "                \n",
    "    def UCB_scoring(self, value, prior, N):\n",
    "        return value + (prior / (1+N))\n",
    "\n",
    "\n",
    "class MCTS():\n",
    "    \n",
    "    def __init__(self, env, net, runs):\n",
    "\n",
    "        self.runs = runs\n",
    "        self.env = env\n",
    "        self.net = net\n",
    "        \n",
    "    # TO DO: we need to be able to run this at any gamestate, not just the very start...\n",
    "    # do we need to fix the POV to +1 or -1 for the net?\n",
    "    \n",
    "    def search(self):\n",
    "        value = [0]*9\n",
    "        pi = [0]*9\n",
    "        visits = [0]*9\n",
    "        \n",
    "        for run in range(self.runs):\n",
    "            # how to reset to original gamestate from here? save state and simply insert it?\n",
    "            # is this really necessary? do we actually make moves according to search or to DNN?\n",
    "            \n",
    "            s_temp, p_temp, z_temp = [], [], []\n",
    "            depth = 0\n",
    "            \n",
    "            print(self.env.done)\n",
    "            while (not self.env.done):\n",
    "                print(self.env.done, self.env.state)\n",
    "                depth += 1\n",
    "                \n",
    "                s_temp.append(self.env.state.copy())\n",
    "                print(s_temp)\n",
    "                action, out = self.sample()\n",
    "                r = self.env.step(action)\n",
    "                p_temp.append(out[:-1])\n",
    "                \n",
    "                if depth == 1:\n",
    "                    first_action = action.numpy().copy()\n",
    "                \n",
    "            for d in range(depth):\n",
    "                z_temp.append(r)\n",
    "                \n",
    "            value[action] += r\n",
    "            visits[first_action] += 1\n",
    "            \n",
    "        return s_temp, p_temp, z_temp, value, visits\n",
    "            \n",
    "        # how to return vector pi? how to average over leaves?\n",
    "    def sample(self):\n",
    "        self.net.zero_grad\n",
    "        out = self.net(torch.tensor(env.state).float())\n",
    "        return torch.multinomial(-out.min()+out[:-1], 1)[0], out"
   ]
  },
  {
   "cell_type": "code",
   "execution_count": 33,
   "id": "4a705f79",
   "metadata": {},
   "outputs": [],
   "source": [
    "class TTT():\n",
    "    \n",
    "    def __init__(self, state=\"reset\", turn=1):\n",
    "        \n",
    "        if state == \"reset\":\n",
    "            self.reset()\n",
    "        else:\n",
    "            self.state = state\n",
    "            self.turn = turn\n",
    "            \n",
    "            if self.win():\n",
    "                self.done = True\n",
    "            else:\n",
    "                self.done = False\n",
    "\n",
    "        \n",
    "    def reset(self):\n",
    "        self.done = False\n",
    "        self.state = [0]*9\n",
    "        self.turn = 1\n",
    "        \n",
    "    def step(self, a):\n",
    "        \n",
    "        r = 0 \n",
    "        if self.state[a] != 0: # Illegal move\n",
    "            r = -1\n",
    "            self.done = True\n",
    "        else:\n",
    "            self.state[a] = self.turn\n",
    "        \n",
    "        if self.win(): # Check for win\n",
    "            r = 1\n",
    "            self.done = True\n",
    "        else:\n",
    "            self.turn = -self.turn\n",
    "            \n",
    "        return r\n",
    "            \n",
    "    def win(self):\n",
    "        s = self.state\n",
    "        for r in [0, 3, 6]: # horizontals\n",
    "            if (s[r]==self.turn) and (s[r]==s[r+1]==s[r+2]):\n",
    "                return True\n",
    "        for r in [0,1,2]: # verticals\n",
    "            if (s[r]==self.turn) and (s[r]==s[r+3]==s[r+6]):\n",
    "                return True   \n",
    "        if (s[0]==self.turn) and (s[0]==s[4]==s[8]): \n",
    "            return True # diagonal\n",
    "        if (s[2]==self.turn) and (s[2]==s[4]==s[6]): \n",
    "            return True # diagonal\n",
    "        \n",
    "class MCTS():\n",
    "    \n",
    "    def __init__(self, env, net, runs):\n",
    "\n",
    "        self.runs = runs\n",
    "        self.env = env\n",
    "        self.net = net\n",
    "        \n",
    "    # TO DO: we need to be able to run this at any gamestate, not just the very start...\n",
    "    # do we need to fix the POV to +1 or -1 for the net?\n",
    "    \n",
    "    def search(self):\n",
    "        value = [0]*9\n",
    "        pi = [0]*9\n",
    "        visits = [0]*9\n",
    "        \n",
    "        for run in range(self.runs):\n",
    "            # how to reset to original gamestate from here? save state and simply insert it?\n",
    "            # is this really necessary? do we actually make moves according to search or to DNN?\n",
    "            \n",
    "            s_temp, p_temp, z_temp = [], [], []\n",
    "            depth = 0\n",
    "            \n",
    "            print(self.env.done)\n",
    "            while (not self.env.done):\n",
    "                print(self.env.done, self.env.state)\n",
    "                depth += 1\n",
    "                \n",
    "                s_temp.append(self.env.state.copy())\n",
    "                print(s_temp)\n",
    "                action, out = self.sample()\n",
    "                r = self.env.step(action)\n",
    "                p_temp.append(out[:-1])\n",
    "                \n",
    "                if depth == 1:\n",
    "                    first_action = action.numpy().copy()\n",
    "                \n",
    "            for d in range(depth):\n",
    "                z_temp.append(r)\n",
    "                \n",
    "            value[action] += r\n",
    "            visits[first_action] += 1\n",
    "            \n",
    "        return s_temp, p_temp, z_temp, value, visits\n",
    "            \n",
    "        # how to return vector pi? how to average over leaves?\n",
    "    def sample(self):\n",
    "        self.net.zero_grad\n",
    "        out = self.net(torch.tensor(env.state).float())\n",
    "        return torch.multinomial(-out.min()+out[:-1], 1)[0], out\n",
    "        \n",
    "# def mcts(env, runs, 1):\n",
    "    \n",
    "#     for r in range(runs):\n",
    "#         model = TicNet()\n",
    "#         model.zero_grad()\n",
    "#         out = model(torch.tensor(env.state).float())\n",
    "#         print(out)\n",
    "    # simulate a game until end\n",
    "    # > represent state so that AI is always +1?\n",
    "    # > choose a move according to DNN\n",
    "    # > 'other player' also chooses a move according to DNN\n",
    "    # > repeat until game concludes\n",
    "    # > store game\n",
    "    # score the game according to outcome"
   ]
  },
  {
   "cell_type": "code",
   "execution_count": 17,
   "id": "3f14a6db",
   "metadata": {},
   "outputs": [
    {
     "ename": "NameError",
     "evalue": "name 'TicNet' is not defined",
     "output_type": "error",
     "traceback": [
      "\u001b[0;31m---------------------------------------------------------------------------\u001b[0m",
      "\u001b[0;31mNameError\u001b[0m                                 Traceback (most recent call last)",
      "\u001b[0;32m<ipython-input-17-dedebacc7eec>\u001b[0m in \u001b[0;36m<module>\u001b[0;34m\u001b[0m\n\u001b[1;32m      1\u001b[0m \u001b[0menv\u001b[0m \u001b[0;34m=\u001b[0m \u001b[0mTTT\u001b[0m\u001b[0;34m(\u001b[0m\u001b[0;34m)\u001b[0m\u001b[0;34m\u001b[0m\u001b[0;34m\u001b[0m\u001b[0m\n\u001b[0;32m----> 2\u001b[0;31m \u001b[0mmodel\u001b[0m \u001b[0;34m=\u001b[0m \u001b[0mTicNet\u001b[0m\u001b[0;34m(\u001b[0m\u001b[0;34m)\u001b[0m\u001b[0;34m\u001b[0m\u001b[0;34m\u001b[0m\u001b[0m\n\u001b[0m\u001b[1;32m      3\u001b[0m \u001b[0mm\u001b[0m \u001b[0;34m=\u001b[0m \u001b[0mMCTS\u001b[0m\u001b[0;34m(\u001b[0m\u001b[0menv\u001b[0m\u001b[0;34m,\u001b[0m \u001b[0mmodel\u001b[0m\u001b[0;34m,\u001b[0m \u001b[0;36m3\u001b[0m\u001b[0;34m)\u001b[0m\u001b[0;34m\u001b[0m\u001b[0;34m\u001b[0m\u001b[0m\n",
      "\u001b[0;31mNameError\u001b[0m: name 'TicNet' is not defined"
     ]
    }
   ],
   "source": [
    "env = TTT()\n",
    "model = TicNet()\n",
    "m = MCTS(env, model, 3)"
   ]
  }
 ],
 "metadata": {
  "kernelspec": {
   "display_name": "Python 3 (ipykernel)",
   "language": "python",
   "name": "python3"
  },
  "language_info": {
   "codemirror_mode": {
    "name": "ipython",
    "version": 3
   },
   "file_extension": ".py",
   "mimetype": "text/x-python",
   "name": "python",
   "nbconvert_exporter": "python",
   "pygments_lexer": "ipython3",
   "version": "3.9.7"
  }
 },
 "nbformat": 4,
 "nbformat_minor": 5
}
