{
 "cells": [
  {
   "cell_type": "code",
   "execution_count": 1,
   "id": "67ec983c",
   "metadata": {},
   "outputs": [],
   "source": [
    "%load_ext autoreload\n",
    "%autoreload 2\n",
    "import numpy as np\n",
    "import math\n",
    "import matplotlib.pyplot as plt\n",
    "from tqdm.notebook import tqdm, trange # progress bars\n",
    "\n",
    "import torch\n",
    "import torch.nn as nn\n",
    "import torch.nn.functional as F\n",
    "\n",
    "from TTT_env import TTT\n",
    "from neural_nets import ValueNet, PolicyNet, Training\n",
    "from mcts import MCTS, Node\n",
    "from self_play import Self_Play\n",
    "import pickle"
   ]
  },
  {
   "cell_type": "code",
   "execution_count": 3,
   "id": "cbb69a51",
   "metadata": {
    "scrolled": true
   },
   "outputs": [
    {
     "name": "stdout",
     "output_type": "stream",
     "text": [
      "Self-Play: Iter 1 out of 5\n",
      "Train: Policy & Value: Iter Net 1 out of 5\n",
      "Device= cpu\n"
     ]
    },
    {
     "name": "stderr",
     "output_type": "stream",
     "text": [
      "/home/sam/miniconda3/envs/bayes/lib/python3.9/site-packages/torch/cuda/__init__.py:52: UserWarning: CUDA initialization: CUDA unknown error - this may be due to an incorrectly set up environment, e.g. changing env variable CUDA_VISIBLE_DEVICES after program start. Setting the available devices to be zero. (Triggered internally at  /opt/conda/conda-bld/pytorch_1614378073166/work/c10/cuda/CUDAFunctions.cpp:109.)\n",
      "  return torch._C._cuda_getDeviceCount() > 0\n"
     ]
    },
    {
     "data": {
      "application/vnd.jupyter.widget-view+json": {
       "model_id": "ec14ab7d374847c992f90c989c7732e3",
       "version_major": 2,
       "version_minor": 0
      },
      "text/plain": [
       "  0%|          | 0/437 [00:00<?, ?it/s]"
      ]
     },
     "metadata": {},
     "output_type": "display_data"
    },
    {
     "data": {
      "application/vnd.jupyter.widget-view+json": {
       "model_id": "fb946e0c45f54175b0ac7fba2763e242",
       "version_major": 2,
       "version_minor": 0
      },
      "text/plain": [
       "  0%|          | 0/437 [00:00<?, ?it/s]"
      ]
     },
     "metadata": {},
     "output_type": "display_data"
    },
    {
     "name": "stdout",
     "output_type": "stream",
     "text": [
      "Self-Play: Iter 2 out of 5\n",
      "Train: Policy & Value: Iter Net 2 out of 5\n"
     ]
    },
    {
     "data": {
      "application/vnd.jupyter.widget-view+json": {
       "model_id": "8171ba081e8143ce8d3376820fc8ab9f",
       "version_major": 2,
       "version_minor": 0
      },
      "text/plain": [
       "  0%|          | 0/437 [00:00<?, ?it/s]"
      ]
     },
     "metadata": {},
     "output_type": "display_data"
    },
    {
     "data": {
      "application/vnd.jupyter.widget-view+json": {
       "model_id": "7150213efdf4417f9849b4e896f60d92",
       "version_major": 2,
       "version_minor": 0
      },
      "text/plain": [
       "  0%|          | 0/437 [00:00<?, ?it/s]"
      ]
     },
     "metadata": {},
     "output_type": "display_data"
    },
    {
     "name": "stdout",
     "output_type": "stream",
     "text": [
      "Self-Play: Iter 3 out of 5\n",
      "Train: Policy & Value: Iter Net 3 out of 5\n"
     ]
    },
    {
     "data": {
      "application/vnd.jupyter.widget-view+json": {
       "model_id": "ae04178fb11d40fca5b3fa0eaa0033d7",
       "version_major": 2,
       "version_minor": 0
      },
      "text/plain": [
       "  0%|          | 0/438 [00:00<?, ?it/s]"
      ]
     },
     "metadata": {},
     "output_type": "display_data"
    },
    {
     "data": {
      "application/vnd.jupyter.widget-view+json": {
       "model_id": "8fe98f80acf447b1a71af2c732a3944d",
       "version_major": 2,
       "version_minor": 0
      },
      "text/plain": [
       "  0%|          | 0/438 [00:00<?, ?it/s]"
      ]
     },
     "metadata": {},
     "output_type": "display_data"
    },
    {
     "name": "stdout",
     "output_type": "stream",
     "text": [
      "Self-Play: Iter 4 out of 5\n",
      "Train: Policy & Value: Iter Net 4 out of 5\n"
     ]
    },
    {
     "data": {
      "application/vnd.jupyter.widget-view+json": {
       "model_id": "3060042aa20440c48c9befc5edbf0c16",
       "version_major": 2,
       "version_minor": 0
      },
      "text/plain": [
       "  0%|          | 0/437 [00:00<?, ?it/s]"
      ]
     },
     "metadata": {},
     "output_type": "display_data"
    },
    {
     "data": {
      "application/vnd.jupyter.widget-view+json": {
       "model_id": "ca575f33a6f142b9aff58f0a2e3d43fd",
       "version_major": 2,
       "version_minor": 0
      },
      "text/plain": [
       "  0%|          | 0/437 [00:00<?, ?it/s]"
      ]
     },
     "metadata": {},
     "output_type": "display_data"
    },
    {
     "name": "stdout",
     "output_type": "stream",
     "text": [
      "Self-Play: Iter 5 out of 5\n",
      "Train: Policy & Value: Iter Net 5 out of 5\n"
     ]
    },
    {
     "data": {
      "application/vnd.jupyter.widget-view+json": {
       "model_id": "b10d8fd08b7d4a8da45fe24d73fd7266",
       "version_major": 2,
       "version_minor": 0
      },
      "text/plain": [
       "  0%|          | 0/438 [00:00<?, ?it/s]"
      ]
     },
     "metadata": {},
     "output_type": "display_data"
    },
    {
     "data": {
      "application/vnd.jupyter.widget-view+json": {
       "model_id": "3108962b6278438b99db8870b5245b8d",
       "version_major": 2,
       "version_minor": 0
      },
      "text/plain": [
       "  0%|          | 0/438 [00:00<?, ?it/s]"
      ]
     },
     "metadata": {},
     "output_type": "display_data"
    }
   ],
   "source": [
    "parameter_path = \"./dnn_checkpoints2/\"\n",
    "iterations = 5 # number of `play -> train` loops\n",
    "games = 1000 # games per self-play session\n",
    "depth = 250 # search depth for monte-carlo tree search\n",
    "temperature = 1 # temperature determining action-selection based on MCTS visit count\n",
    "lr_p = 0.005 # learning rate for policy net\n",
    "lr_v = 0.001 # learning rate for value net\n",
    "batchsize_p = 64\n",
    "batchsize_v = 64\n",
    "epochs_p = 4\n",
    "epochs_v = 4\n",
    "\n",
    "for v in range(iterations):\n",
    "    \n",
    "    # start with self-play\n",
    "    print(\"Self-Play: Iter {} out of {}\".format(v+1, iterations))\n",
    "\n",
    "    if v > 22:\n",
    "        fn = parameter_path + 'game_data_v{}.data'.format(v)\n",
    "        with open(fn, \"rb\") as f:\n",
    "            state_log, mcts_log, win_log = pickle.load(f)\n",
    "    else:\n",
    "        engine = Self_Play(games=games, depth=depth, temperature=temperature, parameter_path = parameter_path)\n",
    "        state_log, mcts_log, win_log = engine.play(version=v)\n",
    "    \n",
    "    \n",
    "    # train DNN's using the played games\n",
    "    print(\"Train: Policy & Value: Iter Net {} out of {}\".format(v+1, iterations))\n",
    "    \n",
    "    if v == 0:\n",
    "        train = Training()   \n",
    "        \n",
    "    pnet, losses = train.train_policy( \n",
    "    state_log, mcts_log, win_log, version=v, parameter_path = parameter_path, lr=lr_p, batchsize=batchsize_p, epochs=epochs_p\n",
    "    )\n",
    "    \n",
    "    vnet, losses = train.train_value( \n",
    "    state_log, mcts_log, win_log, version=v, parameter_path = parameter_path, lr=lr_v, batchsize=batchsize_v, epochs=epochs_v\n",
    "    )\n",
    "    \n",
    "    lr_p *=0.95\n",
    "    lr_v *=0.95\n"
   ]
  },
  {
   "cell_type": "code",
   "execution_count": 5,
   "id": "99fc6778",
   "metadata": {},
   "outputs": [
    {
     "data": {
      "image/png": "[encoded data removed]",
      "text/plain": [
       "<Figure size 792x360 with 1 Axes>"
      ]
     },
     "metadata": {
      "needs_background": "light"
     },
     "output_type": "display_data"
    },
    {
     "data": {
      "image/png": "[encoded data removed]",
      "text/plain": [
       "<Figure size 792x360 with 1 Axes>"
      ]
     },
     "metadata": {
      "needs_background": "light"
     },
     "output_type": "display_data"
    }
   ],
   "source": [
    "# Plotting loss for both nets across self-play rounds\n",
    "\n",
    "plt.figure(figsize=(11,5))\n",
    "\n",
    "for i in range(iterations):\n",
    "    \n",
    "    p_loss_fn = parameter_path +  \"pnet_loss_v{}.data\".format(i)\n",
    "    \n",
    "    with open(p_loss_fn, \"rb\") as f:\n",
    "        \n",
    "        data = pickle.load(f)\n",
    "        \n",
    "        if i == 0:\n",
    "            lengths = []\n",
    "            l = np.empty(0)\n",
    "\n",
    "        plt.plot(np.arange(len(data))+np.sum(lengths), data, label=\"Round %s\"%i)\n",
    "        l = np.append(l, np.array(data).reshape(-1,1))\n",
    "        lengths.append(len(data))\n",
    "        \n",
    "plt.legend(title=\"Self-play rounds\")\n",
    "plt.title(\"Policy-Net Loss\", fontweight=\"bold\"); plt.show()\n",
    "\n",
    "\n",
    "plt.figure(figsize=(11,5))\n",
    "\n",
    "for i in range(iterations):\n",
    "    \n",
    "    v_loss_fn = parameter_path + \"vnet_loss_v{}.data\".format(i)\n",
    "    \n",
    "    with open(v_loss_fn, \"rb\") as f:\n",
    "    \n",
    "        data = pickle.load(f)\n",
    "        \n",
    "        if i == 0:\n",
    "            lengths = []\n",
    "            l = np.empty(0)\n",
    "            \n",
    "        plt.plot(np.arange(len(data))+np.sum(lengths), data, label=\"Round %s\"%i)\n",
    "        l = np.append(l, np.array(data).reshape(-1,1))\n",
    "        lengths.append(len(data))\n",
    "        \n",
    "plt.legend(title=\"Self-play rounds\")\n",
    "plt.title(\"Value-Net Loss\", fontweight=\"bold\"); plt.show()"
   ]
  },
  {
   "cell_type": "code",
   "execution_count": 3,
   "id": "127745ad",
   "metadata": {},
   "outputs": [
    {
     "name": "stdout",
     "output_type": "stream",
     "text": [
      "11\n",
      "Guaranteed loss\n",
      " [[-1 -1  0]\n",
      " [-1  1  0]\n",
      " [ 0  0  1]]\n",
      "Q = -0.07609741389751434\n"
     ]
    }
   ],
   "source": [
    "model = ValueNet()\n",
    "\n",
    "version = iterations-4\n",
    "if version > 0: # load parameters from previous versions\n",
    "    model.load_state_dict(torch.load(parameter_path + \"vnet_v{}\".format(version)))\n",
    "print(version)\n",
    "\n",
    "state = [-1, -1, 0, -1, 1, 0, 0, 0, 1]\n",
    "print(\"Guaranteed loss\\n\", np.array(state).reshape(3,3))\n",
    "out = model(torch.tensor(state).float())\n",
    "print(\"Q =\",out.detach().item())"
   ]
  },
  {
   "cell_type": "code",
   "execution_count": 4,
   "id": "4e8cb2f4",
   "metadata": {},
   "outputs": [
    {
     "name": "stdout",
     "output_type": "stream",
     "text": [
      "14\n"
     ]
    }
   ],
   "source": [
    "model = PolicyNet()\n",
    "\n",
    "version = iterations-1\n",
    "if version > 0: # load parameters from previous versions\n",
    "    model.load_state_dict(torch.load(parameter_path + \"pnet_v{}\".format(version)))\n",
    "print(version)"
   ]
  },
  {
   "cell_type": "code",
   "execution_count": 35,
   "id": "a10304a5",
   "metadata": {},
   "outputs": [
    {
     "name": "stdout",
     "output_type": "stream",
     "text": [
      "Bad start\n",
      " [[ 1 -1  0]\n",
      " [-1  1  0]\n",
      " [ 0  0  0]]\n",
      "tensor([-2.4101, -1.5256, -3.6887, -4.6060, -2.7868, -4.4087, -1.4790, -3.3126,\n",
      "        -1.1406], grad_fn=<LogSoftmaxBackward>)\n",
      "Q = tensor([0.0689, 0.1697, 0.0335, 0.6276, 0.1003])\n"
     ]
    }
   ],
   "source": [
    "state = [1, -1, 0, -1, 1, 0, 0, 0, 0]\n",
    "print(np.array(state).reshape(3,3))\n",
    "out = model(torch.tensor(state).float())\n",
    "print(out)\n",
    "mask = out.detach()[[2,4,5,6,7]]\n",
    "print(\"Q =\",mask.exp()/mask.exp().sum())"
   ]
  },
  {
   "cell_type": "code",
   "execution_count": 9,
   "id": "618489c7",
   "metadata": {
    "scrolled": false
   },
   "outputs": [
    {
     "name": "stdout",
     "output_type": "stream",
     "text": [
      "[1, 0, 0, 4999, 0]\n",
      "[[ 0  0  0]\n",
      " [-1  1 -1]\n",
      " [ 0  1  0]]\n",
      "pi = [2.000e-04 0.000e+00 0.000e+00 9.998e-01 0.000e+00]\n",
      "Next Move = 3\n"
     ]
    },
    {
     "data": {
      "image/png": "[encoded data removed]",
      "text/plain": [
       "<Figure size 432x288 with 1 Axes>"
      ]
     },
     "metadata": {
      "needs_background": "light"
     },
     "output_type": "display_data"
    }
   ],
   "source": [
    "# Have a try with MCTS\n",
    "state = [0, 0, 0, -1, 1, -1, 0, 1, 0]\n",
    "mcts = MCTS(state , 1, 5000, parameter_path)\n",
    "root = mcts.search(version=4)\n",
    "t = 1 # temperature\n",
    "visits = [root.child[i].N**t for i in range(len(root.child))]\n",
    "print(visits)\n",
    "print(np.array(state).reshape(3,3))\n",
    "print(\"pi =\", visits/np.sum(visits))\n",
    "print(\"Next Move =\", np.random.choice(np.arange(len(visits)), p=visits/np.sum(visits), size=1)[0])\n",
    "\n",
    "plt.bar(np.arange(len(visits)), visits/np.sum(visits))\n",
    "plt.xlabel(\"Actions\"); plt.ylabel(\"p(a)\"); plt.title(\"Action-Probabilities\");"
   ]
  }
 ],
 "metadata": {
  "kernelspec": {
   "display_name": "Python 3 (ipykernel)",
   "language": "python",
   "name": "python3"
  },
  "language_info": {
   "codemirror_mode": {
    "name": "ipython",
    "version": 3
   },
   "file_extension": ".py",
   "mimetype": "text/x-python",
   "name": "python",
   "nbconvert_exporter": "python",
   "pygments_lexer": "ipython3",
   "version": "3.9.7"
  }
 },
 "nbformat": 4,
 "nbformat_minor": 5
}
